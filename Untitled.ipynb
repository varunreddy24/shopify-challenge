{
 "cells": [
  {
   "cell_type": "code",
   "execution_count": 1,
   "metadata": {},
   "outputs": [],
   "source": [
    "import pandas as pd\n",
    "import matplotlib.pyplot as plt\n",
    "import numpy as np"
   ]
  },
  {
   "cell_type": "code",
   "execution_count": 2,
   "metadata": {},
   "outputs": [],
   "source": [
    "df = pd.read_csv('2019 Winter Data Science Intern Challenge Data Set - Sheet1.csv')\n",
    "df['created_at'] = pd.to_datetime(df['created_at'])"
   ]
  },
  {
   "cell_type": "code",
   "execution_count": 3,
   "metadata": {},
   "outputs": [
    {
     "name": "stdout",
     "output_type": "stream",
     "text": [
      "Average order value is $3,145.13\n"
     ]
    }
   ],
   "source": [
    "mean_val = df['order_amount'].mean()\n",
    "\n",
    "print(\"Average order value is ${:,.2f}\".format(mean_val))"
   ]
  },
  {
   "cell_type": "code",
   "execution_count": 4,
   "metadata": {},
   "outputs": [],
   "source": [
    "shop_group = df.groupby('shop_id')"
   ]
  },
  {
   "cell_type": "code",
   "execution_count": 5,
   "metadata": {},
   "outputs": [
    {
     "data": {
      "image/png": "[encoded data removed]",
      "text/plain": [
       "<Figure size 432x288 with 1 Axes>"
      ]
     },
     "metadata": {
      "needs_background": "light"
     },
     "output_type": "display_data"
    }
   ],
   "source": [
    "mean_by_shop = shop_group['order_amount'].mean().to_list()\n",
    "plt.plot(range(1, len(mean_by_shop)+1), mean_by_shop)\n",
    "plt.title('Average value for each shop')\n",
    "plt.xlabel('Shop ID')\n",
    "plt.ylabel('Average order value')\n",
    "plt.show()"
   ]
  },
  {
   "cell_type": "code",
   "execution_count": 6,
   "metadata": {},
   "outputs": [
    {
     "name": "stdout",
     "output_type": "stream",
     "text": [
      "Shop id\t\tAverage amount\n",
      "42\t\t235101.49\n",
      "78\t\t49213.04\n",
      "50\t\t403.55\n",
      "90\t\t403.22\n",
      "38\t\t390.86\n"
     ]
    }
   ],
   "source": [
    "index_val = np.argsort(mean_by_shop)[::-1]\n",
    "print(\"Shop id\\t\\tAverage amount\")\n",
    "for i in index_val[:5]:\n",
    "    print(f\"{i+1}\\t\\t{round(mean_by_shop[i],2 )}\")"
   ]
  },
  {
   "cell_type": "markdown",
   "metadata": {},
   "source": [
    "## As we can see that there lies 2 outliers in the data where shop with id 42 has an average value of 235101.49 and shop id 78 has an average value of 49213.04. Let's how to calcaulate AOV with the outliers"
   ]
  },
  {
   "cell_type": "code",
   "execution_count": 7,
   "metadata": {},
   "outputs": [],
   "source": [
    "q1, med, q3 = df['order_amount'].quantile([0.25, 0.5, 0.75])"
   ]
  },
  {
   "cell_type": "code",
   "execution_count": 9,
   "metadata": {},
   "outputs": [
    {
     "name": "stdout",
     "output_type": "stream",
     "text": [
      "[Info] Inner fence value: [0, 730.5]\n",
      "[Info] Outer fence value: [0, 1071.0]\n",
      "Average order value after fencing is $301.68\n"
     ]
    }
   ],
   "source": [
    "range_val = q3-q1\n",
    "inner_fence = [q1-range_val*1.5 if q1>range_val else 0, q3+range_val*1.5]\n",
    "outer_fence = [q1-range_val*3 if q1>range_val else 0, q3+range_val*3]\n",
    "print(f\"[Info] Inner fence value: {inner_fence}\")\n",
    "print(f\"[Info] Outer fence value: {outer_fence}\")\n",
    "\n",
    "order_value_filtered = df['order_amount'][(df['order_amount']>=outer_fence[0]) & (df['order_amount']<=outer_fence[1])]\n",
    "\n",
    "print(\"Average order value after fencing is ${:,.2f}\".format(order_value_filtered.mean()))"
   ]
  },
  {
   "cell_type": "code",
   "execution_count": null,
   "metadata": {},
   "outputs": [],
   "source": []
  },
  {
   "cell_type": "code",
   "execution_count": null,
   "metadata": {},
   "outputs": [],
   "source": []
  },
  {
   "cell_type": "code",
   "execution_count": null,
   "metadata": {},
   "outputs": [],
   "source": []
  }
 ],
 "metadata": {
  "interpreter": {
   "hash": "8ee7f2329b0f09e025876457f2eea3565860dc1b7b8738dd7484a18fe463231d"
  },
  "kernelspec": {
   "display_name": "Python 3.9.12 ('env')",
   "language": "python",
   "name": "python3"
  },
  "language_info": {
   "codemirror_mode": {
    "name": "ipython",
    "version": 3
   },
   "file_extension": ".py",
   "mimetype": "text/x-python",
   "name": "python",
   "nbconvert_exporter": "python",
   "pygments_lexer": "ipython3",
   "version": "3.9.12"
  },
  "orig_nbformat": 4
 },
 "nbformat": 4,
 "nbformat_minor": 2
}
